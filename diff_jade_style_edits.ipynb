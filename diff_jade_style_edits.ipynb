{
 "cells": [
  {
   "cell_type": "code",
   "execution_count": 1,
   "id": "4d37fa9e",
   "metadata": {},
   "outputs": [],
   "source": [
    "from difflib import SequenceMatcher\n",
    "from difflib import Differ\n",
    "import pandas as pd\n",
    "from IPython.display import Markdown\n",
    "import re"
   ]
  },
  {
   "cell_type": "markdown",
   "id": "091a1368",
   "metadata": {},
   "source": [
    "# Read Excel cheet"
   ]
  },
  {
   "cell_type": "code",
   "execution_count": 2,
   "id": "72c4571f",
   "metadata": {},
   "outputs": [],
   "source": [
    "df = pd.read_excel(\"/Users/sarah/Downloads/TEST Jade Text Punctuation.xlsx\").fillna(\"\")"
   ]
  },
  {
   "cell_type": "markdown",
   "id": "b0881c15",
   "metadata": {},
   "source": [
    "# New code to make the markdown"
   ]
  },
  {
   "cell_type": "code",
   "execution_count": 3,
   "id": "84ec0195",
   "metadata": {},
   "outputs": [
    {
     "name": "stdout",
     "output_type": "stream",
     "text": [
      "\n",
      "markdown_for_all_rows[-1] 玉椀來回部, 輸誠供闔閶, 召公懷不寶, 韓子戒無當,異致白毛鹿, 引恬頳尾魴 <span class=\"parenthesis\">(回部葉爾奇木哈什哈爾初役屬於準噶爾,為所拘縶,因我大軍戡定伊犁,始釋之令歸所部,其長伯克和卓遣使求內屬,此其所貢也)</span>, 勞徠非力并, 天眷奉昭彰.\n",
      "\n",
      "markdown_for_all_rows[-1] 玉盤博徑得二尺,圍六尺有<span class=\"parenthesis\">(去聲)</span>五寸益.虛中盛水受一石,素質不雕其色碧. 旁達孚尹瓊華澤,葆光撫不留手跡.<span class=\"delete\">群</span><span class=\"insert\">羣</span>玉之精出<span class=\"delete\">昆侖</span><span class=\"insert\">菎崙</span>,吉日甲子天子賓. <span class=\"delete\">於</span><span class=\"insert\">于</span>西王母<span class=\"delete\">瑤</span><span class=\"insert\">瑶</span>池津,行觴 <span class=\"parenthesis\">(I just ,added in a test, parenthesis here)</span> 介紹簠<span class=\"delete\">蓋樽</span><span class=\"insert\">簋罇</span>.爾時所御器今存,作鎮西極永好完. 未入震旦三千年,問今何來不脛偶.準噶爾亡淪世守,阿睦撒納茲竊取. 王師<span class=\"delete\">深</span><span class=\"insert\">罙</span>入靖孽醜,於將獲之<span class=\"delete\">聯</span><span class=\"insert\">聮</span>猭走.棄其重器為我有,元英大呂陳座右. 咄哉玉盤徒華滋,不可食兮不可衣.連城價詎如窮奇,俘彼禍除可罷師 <span class=\"parenthesis\">(and another one was added here)</span>. 前歌後舞樂雍熙,<span class=\"delete\">瑰</span><span class=\"insert\">瓌</span>玩吾將安用之.擬付剿人一例椎.\n",
      "\n",
      "markdown_for_all_rows[-1] <span class=\"parenthesis\">(did this work?)</span> 于闐何必購奩環,通貢薄來每厚還,.保定不期致<span class=\"delete\">達</span><span class=\"insert\">遠</span>域,琢磨亦復藉他山.示禎碧落星辰表,延喜明廷樽俎<span class=\"delete\">問</span>,<span class=\"insert\">間</span>.漉雪浮香真恰當,思推解渴福區寰. <span class=\"parenthesis\">(maybe?)</span>\n",
      "\n",
      "markdown_for_all_rows[-1] 會未于闐遣使求,堅昆玉椀自來投,詎云有翼千斤獻,那肯無端大白浮.賢問乃明君子德,工言幾誤楚人璆,歲時宴饗斟香茗,延喜明廷弈葉庥 <span class=\"parenthesis\">(yes!)</span>.\n"
     ]
    }
   ],
   "source": [
    "markdown_for_all_rows = []\n",
    "\n",
    "row_counter = 0\n",
    "\n",
    "for row in df.iterrows():\n",
    "    \n",
    "    row_counter += 1\n",
    "    \n",
    "    text1 = row[1][1]\n",
    "    text2 = row[1][2]\n",
    "    \n",
    "    if text1 > '' and text2 > '':\n",
    "    \n",
    "        markdown_for_row = []\n",
    "            \n",
    "        #print()\n",
    "        #print('text1', text1)\n",
    "        #print()\n",
    "        #print('text1', text2)\n",
    "   \n",
    "        comparison = SequenceMatcher(None, text1, text2)\n",
    "        opcodes = comparison.get_opcodes()\n",
    "\n",
    "        merged_c = []\n",
    "        \n",
    "        for s in opcodes:\n",
    "            if s[0] == 'equal':\n",
    "                for a in range(s[1], s[2]):\n",
    "                    merged_c.append([text1[a], ''])\n",
    "            if s[0] == 'insert':\n",
    "                for a in range(s[3], s[4]):\n",
    "                    merged_c.append([text2[a], 'insert'])\n",
    "            if s[0] == 'delete':\n",
    "                for a in range(s[1], s[2]):\n",
    "                    merged_c.append([text1[a], 'delete'])\n",
    "            if s[0] == 'replace':\n",
    "                for a in range(s[1], s[2]):\n",
    "                    merged_c.append([text1[a], 'delete'])\n",
    "                for a in range(s[3], s[4]):\n",
    "                    merged_c.append([text2[a], 'insert'])\n",
    "        \n",
    "        #print()\n",
    "        #print('merged_c', merged_c)\n",
    "                    \n",
    "        parent_open = False\n",
    "        for a in range(0, len(merged_c)):\n",
    "            if merged_c[a][0] == '(':\n",
    "                parent_open = True\n",
    "                merged_c[a][1] = 'parenthesis'\n",
    "            elif merged_c[a][0] == ')':\n",
    "                parent_open = False\n",
    "                merged_c[a][1] = 'parenthesis'\n",
    "            elif parent_open == True:\n",
    "                merged_c[a][1] = 'parenthesis'\n",
    "                \n",
    "        for a in range(0, len(merged_c)):\n",
    "            if merged_c[a][0] in [' ', '.', ','] and merged_c[a][1] != 'parenthesis':\n",
    "                merged_c[a][1] = ''\n",
    "        \n",
    "        #print()\n",
    "        #print('merged_c', merged_c)\n",
    "        \n",
    "        last_class = None\n",
    "        \n",
    "        for c in merged_c:\n",
    "            \n",
    "            if c[1] != last_class:\n",
    "            \n",
    "                if last_class != None and last_class != '':\n",
    "                    markdown_for_row.append('</span>')\n",
    "                \n",
    "                if c[1].strip() > '':\n",
    "                    markdown_for_row.append('<span class=\"' + c[1] + '\">')\n",
    "            \n",
    "            markdown_for_row.append(c[0])\n",
    "            last_class = c[1]\n",
    "            \n",
    "        if last_class != None and last_class > '':\n",
    "            markdown_for_row.append('</span>')\n",
    "            \n",
    "        #print()\n",
    "        #print('markdown_for_row', markdown_for_row)\n",
    "        \n",
    "        markdown_for_all_rows.append(''.join(markdown_for_row))\n",
    "            \n",
    "        print()\n",
    "        print('markdown_for_all_rows[-1]', markdown_for_all_rows[-1])"
   ]
  },
  {
   "cell_type": "code",
   "execution_count": 4,
   "id": "e4307233",
   "metadata": {},
   "outputs": [
    {
     "data": {
      "text/markdown": [
       "<style>                           \n",
       "    span.delete {color: #32a852; \n",
       "                 background-color: lavender;\n",
       "                 font-size: 150%; \n",
       "                 margin: 0 3px; \n",
       "                 border: 1px solid #808080; \n",
       "                 line-height: 1.5;\n",
       "                 padding: 2px;}\n",
       "    span.insert {color: #e02427;\n",
       "                 background-color: lavender;\n",
       "                 font-size: 150%; \n",
       "                 margin: 0 3px; \n",
       "                 border: 1px solid #808080; \n",
       "                 line-height: 1.5;\n",
       "                 padding: 2px;}\n",
       "    span.parenthesis {color: #324ea8;\n",
       "                    font-size: 100%;\n",
       "                    margin: 0 3px;}\n",
       "    </style>玉椀來回部, 輸誠供闔閶, 召公懷不寶, 韓子戒無當,異致白毛鹿, 引恬頳尾魴 <span class=\"parenthesis\">(回部葉爾奇木哈什哈爾初役屬於準噶爾,為所拘縶,因我大軍戡定伊犁,始釋之令歸所部,其長伯克和卓遣使求內屬,此其所貢也)</span>, 勞徠非力并, 天眷奉昭彰.\n",
       "\n",
       "玉盤博徑得二尺,圍六尺有<span class=\"parenthesis\">(去聲)</span>五寸益.虛中盛水受一石,素質不雕其色碧. 旁達孚尹瓊華澤,葆光撫不留手跡.<span class=\"delete\">群</span><span class=\"insert\">羣</span>玉之精出<span class=\"delete\">昆侖</span><span class=\"insert\">菎崙</span>,吉日甲子天子賓. <span class=\"delete\">於</span><span class=\"insert\">于</span>西王母<span class=\"delete\">瑤</span><span class=\"insert\">瑶</span>池津,行觴 <span class=\"parenthesis\">(I just ,added in a test, parenthesis here)</span> 介紹簠<span class=\"delete\">蓋樽</span><span class=\"insert\">簋罇</span>.爾時所御器今存,作鎮西極永好完. 未入震旦三千年,問今何來不脛偶.準噶爾亡淪世守,阿睦撒納茲竊取. 王師<span class=\"delete\">深</span><span class=\"insert\">罙</span>入靖孽醜,於將獲之<span class=\"delete\">聯</span><span class=\"insert\">聮</span>猭走.棄其重器為我有,元英大呂陳座右. 咄哉玉盤徒華滋,不可食兮不可衣.連城價詎如窮奇,俘彼禍除可罷師 <span class=\"parenthesis\">(and another one was added here)</span>. 前歌後舞樂雍熙,<span class=\"delete\">瑰</span><span class=\"insert\">瓌</span>玩吾將安用之.擬付剿人一例椎.\n",
       "\n",
       "<span class=\"parenthesis\">(did this work?)</span> 于闐何必購奩環,通貢薄來每厚還,.保定不期致<span class=\"delete\">達</span><span class=\"insert\">遠</span>域,琢磨亦復藉他山.示禎碧落星辰表,延喜明廷樽俎<span class=\"delete\">問</span>,<span class=\"insert\">間</span>.漉雪浮香真恰當,思推解渴福區寰. <span class=\"parenthesis\">(maybe?)</span>\n",
       "\n",
       "會未于闐遣使求,堅昆玉椀自來投,詎云有翼千斤獻,那肯無端大白浮.賢問乃明君子德,工言幾誤楚人璆,歲時宴饗斟香茗,延喜明廷弈葉庥 <span class=\"parenthesis\">(yes!)</span>."
      ],
      "text/plain": [
       "<IPython.core.display.Markdown object>"
      ]
     },
     "execution_count": 4,
     "metadata": {},
     "output_type": "execute_result"
    }
   ],
   "source": [
    "styleblock = \"\"\"<style>                           \n",
    "    span.delete {color: #32a852; \n",
    "                 background-color: lavender;\n",
    "                 font-size: 150%; \n",
    "                 margin: 0 3px; \n",
    "                 border: 1px solid #808080; \n",
    "                 line-height: 1.5;\n",
    "                 padding: 2px;}\n",
    "    span.insert {color: #e02427;\n",
    "                 background-color: lavender;\n",
    "                 font-size: 150%; \n",
    "                 margin: 0 3px; \n",
    "                 border: 1px solid #808080; \n",
    "                 line-height: 1.5;\n",
    "                 padding: 2px;}\n",
    "    span.parenthesis {color: #324ea8;\n",
    "                    font-size: 100%;\n",
    "                    margin: 0 3px;}\n",
    "    </style>\"\"\"\n",
    "\n",
    "Markdown(styleblock + '\\n\\n'.join(markdown_for_all_rows))"
   ]
  },
  {
   "cell_type": "code",
   "execution_count": null,
   "id": "557b0f90",
   "metadata": {},
   "outputs": [],
   "source": []
  },
  {
   "cell_type": "code",
   "execution_count": null,
   "id": "1cf84baa",
   "metadata": {},
   "outputs": [],
   "source": []
  }
 ],
 "metadata": {
  "kernelspec": {
   "display_name": "Python 3",
   "language": "python",
   "name": "python3"
  },
  "language_info": {
   "codemirror_mode": {
    "name": "ipython",
    "version": 3
   },
   "file_extension": ".py",
   "mimetype": "text/x-python",
   "name": "python",
   "nbconvert_exporter": "python",
   "pygments_lexer": "ipython3",
   "version": "3.8.8"
  }
 },
 "nbformat": 4,
 "nbformat_minor": 5
}
